{
 "cells": [
  {
   "cell_type": "code",
   "execution_count": 1,
   "metadata": {},
   "outputs": [],
   "source": [
    "from sqlalchemy import create_engine\n",
    "from sqlalchemy import exc\n",
    "from sqlalchemy.engine import Engine\n",
    "import pandas as pd\n",
    "import cx_Oracle"
   ]
  },
  {
   "cell_type": "markdown",
   "metadata": {},
   "source": [
    "## Sentiment Analysis\n",
    "\n",
    "- Python Library : vaderSentiment (Valence Aware Dictionary and Sentiment Reasoner)\n",
    "- Implementation workflow : SQL -> CSV -> Python -> CSV -> Power Query Engine -> PowerBI "
   ]
  },
  {
   "cell_type": "code",
   "execution_count": null,
   "metadata": {},
   "outputs": [],
   "source": [
    "try:\n",
    "    connection: Engine = create_engine(\n",
    "        f\"oracle://user:password(DESCRIPTION=(ADDRESS_LIST=(ADDRESS=(PROTOCOL=TCP)(HOST=host_url)(PORT=port_number)))(CONNECT_DATA=(SERVICE_NAME=service_url)))\")\n",
    "except exc.SQLAlchemyError as e:\n",
    "    print('SQLAlchemy database connection dropped from create_engine. {}'.format(e))\n",
    "    raise\n",
    "\n",
    "sql = \"\"\"\n",
    "    select\n",
    "    t.OR_CASE_ID,\n",
    "    t.PAT_ID,\n",
    "    t.PREOP_PPO_RSP_CSN_ID,\n",
    "    t.PREOP_CONTACT_DATE,\n",
    "    t.PREOP_PAIN_RELIEF,\n",
    "    t.PREOP_SURGERY_OUTCOME,\n",
    "    t.M3_PPO_RSP_CSN_ID,\n",
    "    t.M3_CONTACT_DATE,\n",
    "    t.M3_PAIN_RELIEF,\n",
    "    t.M3_SURGERY_OUTCOME,\n",
    "    t.M3_IMP_OUTCOME,\n",
    "    t.Y1_PPO_RSP_CSN_ID,\n",
    "    t.Y1_CONTACT_DATE,\n",
    "    t.Y1_POSTOP_CARE,\n",
    "    t.Y1_SURGERY_OUTCOME,\n",
    "    t.Y1_IMP_OUTCOME\n",
    "    from CDPD.PROE_ELIG_RSP_CALCS_MV t\n",
    "    where t.ppo_preop_m3_y1 like '%1%'\n",
    "\"\"\"\n",
    "\n",
    "df = pd.read_sql(sql=sql, con=connection)\n",
    "df.to_csv('epic_patient_outcomes.csv')"
   ]
  },
  {
   "cell_type": "code",
   "execution_count": 17,
   "metadata": {},
   "outputs": [],
   "source": [
    "from dataclasses import dataclass, field, fields\n",
    "from vaderSentiment.vaderSentiment import SentimentIntensityAnalyzer\n",
    "import pandas as pd\n",
    "\n",
    "@dataclass\n",
    "class PatientResponseRatings:\n",
    "    outcome_response: list = field(default_factory=lambda : [])\n",
    "    total_sentiment_data: list = field(default_factory=lambda : [])\n",
    "    negative_rating: list = field(default_factory=lambda : [])\n",
    "    neutral_rating: list = field(default_factory=lambda : [])\n",
    "    positive_rating: list = field(default_factory=lambda : [])\n",
    "    overall_rating: list = field(default_factory=lambda : [])\n",
    "    patient_id: list = field(default_factory=lambda : [])\n",
    "    or_case_id: list = field(default_factory=lambda : [])\n",
    "\n",
    "class PatientResponses:\n",
    "    SID_OBJ = SentimentIntensityAnalyzer()\n",
    "    PATIENT_DF = pd.read_csv('epic_patient_outcomes.csv')\n",
    "\n",
    "    def __init__(self, column_name: str=None, data_class: object=None) -> None:\n",
    "        self.column_name = column_name\n",
    "        self.data_class = data_class\n",
    "        self.__output_df = None\n",
    "\n",
    "    def sentiment_analysis(self) -> None:\n",
    "        sent_df = pd.DataFrame()\n",
    "        column_ = self.column_name\n",
    "\n",
    "        sent_df[column_] = __class__.PATIENT_DF[column_]\n",
    "        sent_df[column_] = __class__.PATIENT_DF[column_]\n",
    "        sent_df['pat_id'] = __class__.PATIENT_DF['pat_id']\n",
    "        sent_df['or_case_id'] = __class__.PATIENT_DF['or_case_id']\n",
    " \n",
    "        for row in sent_df.index:\n",
    "            sentiment_dict = __class__.SID_OBJ.polarity_scores(str(sent_df[column_][row]))\n",
    "\n",
    "            if sentiment_dict['compound'] >= 0.05 :\n",
    "                end = \"Positive\"\n",
    "            elif sentiment_dict['compound'] <= - 0.05 :\n",
    "                end = \"Negative\"\n",
    "            else :\n",
    "                end = \"Neutral\" \n",
    "\n",
    "            self.data_class.outcome_response.append(sent_df[column_][row])\n",
    "            self.data_class.total_sentiment_data.append(sentiment_dict)\n",
    "            self.data_class.negative_rating.append(f\"{round(sentiment_dict['neg']*100, 2)}%\")\n",
    "            self.data_class.neutral_rating.append(f\"{round(sentiment_dict['neu']*100, 2)}%\")\n",
    "            self.data_class.positive_rating.append(f\"{round(sentiment_dict['pos']*100, 2)}%\")\n",
    "            self.data_class.overall_rating.append(f\"{end}\")  \n",
    "            self.data_class.patient_id.append(sent_df['pat_id'][row])\n",
    "            self.data_class.or_case_id.append(sent_df['or_case_id'][row])\n",
    "      \n",
    "    def create_dataframe(self) -> None:\n",
    "        dict_ = {i.name: getattr(self.data_class, i.name) for i in fields(self.data_class)} \n",
    "        self.__output_df = pd.DataFrame(dict_)\n",
    "\n",
    "    def create_csv_file(self, filename: str=None) -> None:\n",
    "        self.__output_df.to_csv(f'{filename}.csv')\n",
    "\n",
    "    def return_dataframe(self):\n",
    "        return self.__output_df"
   ]
  },
  {
   "cell_type": "code",
   "execution_count": 19,
   "metadata": {},
   "outputs": [
    {
     "name": "stdout",
     "output_type": "stream",
     "text": [
      "                                        outcome_response  \\\n",
      "0                                       BETTER MOBILITY    \n",
      "1        HIKIE DANCE YOGA STAIRS STAND KNEEL RIDE HORSE    \n",
      "2      GETTING MY LIFE BACK- TRAVELING, HIKING, DANCI...   \n",
      "3                                  FLEXION AND MOBILITY    \n",
      "4        ABILITY TO WALK LONGER DISTANCES WHEN TRAVELING   \n",
      "...                                                  ...   \n",
      "19963                                  BETTER FUNCTION.    \n",
      "19964    BEING ABLE TO WALK, GO UP & DOWN STAIRS,  SQUAT   \n",
      "19965     NORMAL AVERAGE EVERY DAY ACTIVITIES FOR MY AGE   \n",
      "19966                                           MOBILITY   \n",
      "19967                                 WALKING AND STAIRS   \n",
      "\n",
      "                                    total_sentiment_data negative_rating  \\\n",
      "0      {'neg': 0.0, 'neu': 0.256, 'pos': 0.744, 'comp...            0.0%   \n",
      "1      {'neg': 0.0, 'neu': 1.0, 'pos': 0.0, 'compound...            0.0%   \n",
      "2      {'neg': 0.0, 'neu': 0.916, 'pos': 0.084, 'comp...            0.0%   \n",
      "3      {'neg': 0.0, 'neu': 1.0, 'pos': 0.0, 'compound...            0.0%   \n",
      "4      {'neg': 0.0, 'neu': 0.723, 'pos': 0.277, 'comp...            0.0%   \n",
      "...                                                  ...             ...   \n",
      "19963  {'neg': 0.0, 'neu': 0.256, 'pos': 0.744, 'comp...            0.0%   \n",
      "19964  {'neg': 0.0, 'neu': 1.0, 'pos': 0.0, 'compound...            0.0%   \n",
      "19965  {'neg': 0.0, 'neu': 1.0, 'pos': 0.0, 'compound...            0.0%   \n",
      "19966  {'neg': 0.0, 'neu': 1.0, 'pos': 0.0, 'compound...            0.0%   \n",
      "19967  {'neg': 0.0, 'neu': 1.0, 'pos': 0.0, 'compound...            0.0%   \n",
      "\n",
      "      neutral_rating positive_rating overall_rating patient_id  or_case_id  \n",
      "0              25.6%           74.4%       Positive    C146508     1430646  \n",
      "1             100.0%            0.0%        Neutral   C1356956     1431110  \n",
      "2              91.6%            8.4%       Positive   C1356956     1431110  \n",
      "3             100.0%            0.0%        Neutral   C3166325     1428499  \n",
      "4              72.3%           27.7%       Positive   31386442     1429397  \n",
      "...              ...             ...            ...        ...         ...  \n",
      "19963          25.6%           74.4%       Positive   01030776     1410371  \n",
      "19964         100.0%            0.0%        Neutral   C1057294     1410567  \n",
      "19965         100.0%            0.0%        Neutral   30407375     1410629  \n",
      "19966         100.0%            0.0%        Neutral   51001032     1410640  \n",
      "19967         100.0%            0.0%        Neutral   30440110     1410648  \n",
      "\n",
      "[19968 rows x 8 columns]\n"
     ]
    }
   ],
   "source": [
    "\"\"\"Preop Responses\"\"\"\n",
    "preop = PatientResponseRatings()\n",
    "preop_ = PatientResponses('preop_surgery_outcome', preop)\n",
    "preop_.sentiment_analysis()\n",
    "preop_.create_dataframe()\n",
    "preop_df = preop_.return_dataframe()\n",
    "# preop_.create_csv_file('_patient_preop_response_ratings')\n",
    "\n",
    "\"\"\"Month Three Responses\"\"\"\n",
    "m3_imp = PatientResponseRatings()\n",
    "m3 = PatientResponses('m3_imp_outcome', m3_imp)\n",
    "m3.sentiment_analysis()\n",
    "m3.create_dataframe()\n",
    "m3_df = preop_.return_dataframe()\n",
    "# m3.create_csv_file('_patient_m3_imp_response_ratings')\n",
    "\n",
    "\"\"\"Year One Responses\"\"\"\n",
    "y1_imp = PatientResponseRatings()\n",
    "y1 = PatientResponses('y1_imp_outcome', y1_imp)\n",
    "y1.sentiment_analysis()\n",
    "y1.create_dataframe()\n",
    "y1_df = preop_.return_dataframe()\n",
    "# y1.create_csv_file('_patient_y1_imp_response_ratings')\n",
    "\n",
    "all_responses_df = pd.concat((preop_df, m3_df, y1_df), axis=0, ignore_index=True)\n",
    "all_responses_df.to_csv('all_patient_responses.csv')\n",
    "\n",
    "print(all_responses_df)"
   ]
  },
  {
   "cell_type": "markdown",
   "metadata": {},
   "source": [
    "## Machine Learning \n",
    "- Classifying Patient Responses (Orthopedic Knee Surgeries)\n",
    "- Python libraries : scikit-learn & spaCy"
   ]
  },
  {
   "cell_type": "code",
   "execution_count": 10,
   "metadata": {},
   "outputs": [],
   "source": [
    "from sklearn import svm\n",
    "import spacy\n",
    "\n",
    "class Category:\n",
    "    PAIN_MANAGEMENT = \"PAIN_MANAGEMENT\"\n",
    "    IMPROVED_FUNCTION = \"IMPROVED_FUNCTION\"\n",
    "    QUALITY_OF_LIFE = \"QUALITY_OF_LIFE\"\n",
    "    ADVERSE_EVENTS = \"ADVERSE_EVENTS\"\n",
    " \n",
    "class PatientResponseModel(Category):\n",
    "    TRAIN_X = [\n",
    "        \"Improve mobility, motion and strength\", \n",
    "        \"Moving without the fear of falling\", \n",
    "        \"Walking pain free\", \n",
    "        \"Better life expectations\"\n",
    "        ]\n",
    "\n",
    "    NLP = spacy.load(\"en_core_web_md\")\n",
    "    \n",
    "    def __init__(self, patient_response: str = None) -> None:\n",
    "        super().__init__()\n",
    "        self.patient_response = patient_response\n",
    "        self._test_x_word_vectors = None\n",
    "        self._train_x_word_vectors = None\n",
    "        self.prediction = None\n",
    "        self.train_y = [\n",
    "            self.IMPROVED_FUNCTION, \n",
    "            self.ADVERSE_EVENTS, \n",
    "            self.PAIN_MANAGEMENT, \n",
    "            self.QUALITY_OF_LIFE\n",
    "            ]\n",
    "\n",
    "    def vectorization(self):\n",
    "        test_x = [self.patient_response]\n",
    "        test_docs = [__class__.NLP(text) for text in test_x]\n",
    "        self.test_x_word_vectors = [x.vector for x in test_docs]\n",
    "\n",
    "    def predict_classification_category(self):\n",
    "        clf_svm = svm.SVC(kernel='linear')\n",
    "        clf_svm.fit(self.train_x_word_vectors, self.train_y)\n",
    "        self.prediction = clf_svm.predict(self.test_x_word_vectors)\n",
    "        \n",
    "    def model_training(self):\n",
    "        docs = [__class__.NLP(text.upper()) for text in __class__.TRAIN_X]\n",
    "        self.train_x_word_vectors = [x.vector for x in docs]\n",
    "\n",
    "    def __repr__(self) -> str:\n",
    "        return f\"{self.prediction}\"\n",
    "    "
   ]
  },
  {
   "cell_type": "code",
   "execution_count": 11,
   "metadata": {},
   "outputs": [
    {
     "name": "stdout",
     "output_type": "stream",
     "text": [
      "['IMPROVED_FUNCTION']\n"
     ]
    }
   ],
   "source": [
    "p = PatientResponseModel(\"ABILITY TO WORK, EVEN WITH SOME PAIN\")\n",
    "p.vectorization()\n",
    "p.model_training()\n",
    "p.predict_classification_category()\n",
    "print(p)"
   ]
  },
  {
   "cell_type": "code",
   "execution_count": 12,
   "metadata": {},
   "outputs": [
    {
     "name": "stdout",
     "output_type": "stream",
     "text": [
      "['QUALITY_OF_LIFE']\n"
     ]
    }
   ],
   "source": [
    "p = PatientResponseModel(\"TO ACHIEVE VERY LITTLE STIFFNESS AFTER SITTING\")\n",
    "p.vectorization()\n",
    "p.model_training()\n",
    "p.predict_classification_category()\n",
    "print(p)\n"
   ]
  },
  {
   "cell_type": "code",
   "execution_count": 13,
   "metadata": {},
   "outputs": [
    {
     "name": "stdout",
     "output_type": "stream",
     "text": [
      "['QUALITY_OF_LIFE']\n"
     ]
    }
   ],
   "source": [
    "p = PatientResponseModel(\"BEING ABLE TO WALK ON MY OWN WITH NO HELP\")\n",
    "p.vectorization()\n",
    "p.model_training()\n",
    "p.predict_classification_category()\n",
    "print(p)"
   ]
  },
  {
   "cell_type": "code",
   "execution_count": 14,
   "metadata": {},
   "outputs": [
    {
     "name": "stdout",
     "output_type": "stream",
     "text": [
      "['IMPROVED_FUNCTION']\n"
     ]
    }
   ],
   "source": [
    "p = PatientResponseModel(\"KNEEL ON MY KNEES W/O PAIN, AND DO STAIRS PAINFREE\")\n",
    "p.vectorization()\n",
    "p.model_training()\n",
    "p.predict_classification_category()\n",
    "print(p)"
   ]
  },
  {
   "cell_type": "code",
   "execution_count": 15,
   "metadata": {},
   "outputs": [
    {
     "name": "stdout",
     "output_type": "stream",
     "text": [
      "['ADVERSE_EVENTS']\n"
     ]
    }
   ],
   "source": [
    "p = PatientResponseModel(\"OVERCOME SURGICAL PAIN\")\n",
    "p.vectorization()\n",
    "p.model_training()\n",
    "p.predict_classification_category()\n",
    "print(p)"
   ]
  },
  {
   "cell_type": "code",
   "execution_count": 16,
   "metadata": {},
   "outputs": [
    {
     "name": "stdout",
     "output_type": "stream",
     "text": [
      "['PAIN_MANAGEMENT']\n"
     ]
    }
   ],
   "source": [
    "p = PatientResponseModel(\"LESS PAIN/STIFFNESS DURING NIGHT!\")\n",
    "p.vectorization()\n",
    "p.model_training()\n",
    "p.predict_classification_category()\n",
    "print(p)"
   ]
  }
 ],
 "metadata": {
  "kernelspec": {
   "display_name": "py39_venv",
   "language": "python",
   "name": "python3"
  },
  "language_info": {
   "codemirror_mode": {
    "name": "ipython",
    "version": 3
   },
   "file_extension": ".py",
   "mimetype": "text/x-python",
   "name": "python",
   "nbconvert_exporter": "python",
   "pygments_lexer": "ipython3",
   "version": "3.9.16"
  },
  "orig_nbformat": 4
 },
 "nbformat": 4,
 "nbformat_minor": 2
}
