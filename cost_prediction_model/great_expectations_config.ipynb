{
 "cells": [
  {
   "cell_type": "markdown",
   "metadata": {
    "application/vnd.databricks.v1+cell": {
     "cellMetadata": {},
     "inputWidgets": {},
     "nuid": "bbb8b5b2-e330-45d4-a92d-d29fc5792602",
     "showTitle": false,
     "title": ""
    }
   },
   "source": [
    "# Great Expectations Configuration for MY_TABLE_NAME\n",
    "Define the expectations to test against your table"
   ]
  },
  {
   "cell_type": "markdown",
   "metadata": {
    "application/vnd.databricks.v1+cell": {
     "cellMetadata": {},
     "inputWidgets": {},
     "nuid": "722c47d3-66f4-4172-b2ec-81b1020db331",
     "showTitle": false,
     "title": ""
    }
   },
   "source": [
    "### Imports and Installs"
   ]
  },
  {
   "cell_type": "code",
   "execution_count": 0,
   "metadata": {
    "application/vnd.databricks.v1+cell": {
     "cellMetadata": {},
     "inputWidgets": {},
     "nuid": "46d392b4-5481-4ee8-a463-1f038baf319d",
     "showTitle": false,
     "title": ""
    }
   },
   "outputs": [],
   "source": [
    "%pip install pyyaml -i https://artifactory.healthpartners.com/artifactory/api/pypi/python-hosted-remote/simple\n",
    "%pip install great-expectations -i https://artifactory.healthpartners.com/artifactory/api/pypi/python-hosted-remote/simple"
   ]
  },
  {
   "cell_type": "code",
   "execution_count": 0,
   "metadata": {
    "application/vnd.databricks.v1+cell": {
     "cellMetadata": {},
     "inputWidgets": {},
     "nuid": "86408407-69aa-43e3-a0c5-b5035aaf0eca",
     "showTitle": false,
     "title": ""
    }
   },
   "outputs": [],
   "source": [
    "from Databricks.SharedModules.gx_tool import SimpleGXTool\n",
    "from Databricks.SharedModules.general import get_catalog_suffix"
   ]
  },
  {
   "cell_type": "markdown",
   "metadata": {
    "application/vnd.databricks.v1+cell": {
     "cellMetadata": {},
     "inputWidgets": {},
     "nuid": "85fe81fc-f0f2-4e11-9779-2e2f338bc12a",
     "showTitle": false,
     "title": ""
    }
   },
   "source": [
    "### Target Environment"
   ]
  },
  {
   "cell_type": "code",
   "execution_count": 0,
   "metadata": {
    "application/vnd.databricks.v1+cell": {
     "cellMetadata": {},
     "inputWidgets": {},
     "nuid": "dd1dd18d-2f09-42aa-8d0b-a0b1a93b7014",
     "showTitle": false,
     "title": ""
    }
   },
   "outputs": [],
   "source": [
    "# target_environment = dbutils.widgets.get('target_environment')\n",
    "target_environment = \"dev\""
   ]
  },
  {
   "cell_type": "markdown",
   "metadata": {
    "application/vnd.databricks.v1+cell": {
     "cellMetadata": {},
     "inputWidgets": {},
     "nuid": "605aec7d-e353-4db9-b4ac-4d40525d2f22",
     "showTitle": false,
     "title": ""
    }
   },
   "source": [
    "### Create Expectation Suites\n",
    "Create a new expectation suite for your table. You can have as many expectation suites per table as you want. However, generally, you want one expectation suite per alert level that you plan to employ. So if you want your job to fail for all expectation violations, you'd just need one expectation suite at alert_level 'error'. If you want a warning expectation suite as well, you'd have two suites, one at 'error' and one at 'warning'. Your new expectation suite(s) will be named: {catalog}\\_{schema}\\_{table}\\_expectation\\_suite_{alert_level}.\n",
    "\n",
    "You can find your new expectation suite(s) in the Great Expectations Cloud UI: https://app.greatexpectations.io/organizations/healthpartners/expectation-suites."
   ]
  },
  {
   "cell_type": "code",
   "execution_count": 0,
   "metadata": {
    "application/vnd.databricks.v1+cell": {
     "cellMetadata": {},
     "inputWidgets": {},
     "nuid": "756bc9d4-06b9-4c12-81f3-38194eba6db3",
     "showTitle": false,
     "title": ""
    }
   },
   "outputs": [],
   "source": [
    "# Install the PyYAML module\n",
    "!pip install pyyaml\n",
    "import pandas as pd\n",
    "from pyspark.sql.types import *\n",
    "from pyspark.sql.functions import *\n",
    "import yaml\n",
    "import json\n",
    "\n",
    "with open('index.yaml', 'r') as f:\n",
    "  index_yaml = yaml.safe_load(f)"
   ]
  },
  {
   "cell_type": "code",
   "execution_count": 0,
   "metadata": {
    "application/vnd.databricks.v1+cell": {
     "cellMetadata": {},
     "inputWidgets": {},
     "nuid": "6e2f64f2-9d21-4eb7-8dbf-7ceef46f9e51",
     "showTitle": false,
     "title": ""
    }
   },
   "outputs": [],
   "source": [
    "zone = 'standardized' # don't include the _dev or _npd suffix;\n",
    "schema = index_yaml['schema']\n",
    "table = index_yaml['table']['name']"
   ]
  },
  {
   "cell_type": "code",
   "execution_count": 0,
   "metadata": {
    "application/vnd.databricks.v1+cell": {
     "cellMetadata": {},
     "inputWidgets": {},
     "nuid": "52e7d039-fbcd-447b-b6d6-cf54a1b7b0e6",
     "showTitle": false,
     "title": ""
    }
   },
   "outputs": [],
   "source": [
    "gx_tool = SimpleGXTool(catalog='{zone}{suffix}'.format(\n",
    "                            zone=zone,\n",
    "                            suffix=get_catalog_suffix(target_environment)),\n",
    "                        schema=schema,\n",
    "                        table=table)"
   ]
  },
  {
   "cell_type": "code",
   "execution_count": 0,
   "metadata": {
    "application/vnd.databricks.v1+cell": {
     "cellMetadata": {},
     "inputWidgets": {},
     "nuid": "5aa769f5-b826-447a-b7b7-195af8909cfa",
     "showTitle": false,
     "title": ""
    }
   },
   "outputs": [],
   "source": [
    "expectation_suite = gx_tool.add_expectation_suite(alert_level='error')\n",
    "expectation_suite = gx_tool.add_expectation_suite(alert_level='warning')"
   ]
  },
  {
   "cell_type": "code",
   "execution_count": 0,
   "metadata": {
    "application/vnd.databricks.v1+cell": {
     "cellMetadata": {},
     "inputWidgets": {},
     "nuid": "52703b06-d3c9-4734-bd66-dc7740378e5d",
     "showTitle": false,
     "title": ""
    }
   },
   "outputs": [],
   "source": [
    "# The names are a bit cumbersome, so store them in variables for easy access when creating expectations\n",
    "error_suite_name = '{zone}{suffix}_{schema}_{table}_expectation_suite_error'.format(\n",
    "                        zone=zone,\n",
    "                        suffix=get_catalog_suffix(target_environment),\n",
    "                        schema=schema,\n",
    "                        table=table\n",
    "                        )\n",
    "print(error_suite_name)\n",
    "warning_suite_name = '{zone}{suffix}_{schema}_{table}_expectation_suite_warning'.format(\n",
    "                        zone=zone,\n",
    "                        suffix=get_catalog_suffix(target_environment),\n",
    "                        schema=schema,\n",
    "                        table=table\n",
    "                        )"
   ]
  },
  {
   "cell_type": "markdown",
   "metadata": {
    "application/vnd.databricks.v1+cell": {
     "cellMetadata": {},
     "inputWidgets": {},
     "nuid": "e5c53a24-f2ab-4e0f-91dd-0f095ef84c37",
     "showTitle": false,
     "title": ""
    }
   },
   "source": [
    "### Add Expectations\n",
    "You can find expectations in the GX Expectation Gallery (https://greatexpectations.io/expectations/). Take a look at the expectation_column_distinct_values_to_be_in_set expectation here: https://greatexpectations.io/expectations/expect_column_distinct_values_to_be_in_set. Note how the args are added to the expectation_config_kwargs in the example below. Also note that the keyword args could also be added in the same way, though they are optional and were left out in the example."
   ]
  },
  {
   "cell_type": "code",
   "execution_count": 0,
   "metadata": {
    "application/vnd.databricks.v1+cell": {
     "cellMetadata": {},
     "inputWidgets": {},
     "nuid": "3e060f04-2b13-4daf-a6b3-62790dcb923f",
     "showTitle": false,
     "title": ""
    }
   },
   "outputs": [],
   "source": [
    "# Expectations that will cause errors (fail the job)\n",
    "# gx_tool.add_expectation(\n",
    "#                 expectation_suite_name=error_suite_name,\n",
    "#                 expectation_type='expect_column_distinct_values_to_be_in_set',\n",
    "#                 expectation_config_kwargs={'column': 'race_length',\n",
    "#                                            'value_set': ['100m', '5000m', '10000m', 'marathon']}\n",
    "#                 )\n",
    "\n",
    "gx_tool.add_expectation(\n",
    "                expectation_suite_name=error_suite_name,\n",
    "                expectation_type='expect_column_values_to_not_be_null',\n",
    "                expectation_config_kwargs={'column': 'PAID_PERIOD_ID'}\n",
    "                )\n",
    "\n",
    "# # Expectations that will cause warnings (notify the team)\n",
    "# gx_tool.add_expectation(\n",
    "#                 expectation_suite_name=warning_suite_name,\n",
    "#                 expectation_type='expect_table_columns_to_match_set',\n",
    "#                 expectation_config_kwargs={'column_set': ['race_length', 'record_holder'],\n",
    "#                                            'exact_match': True}\n",
    "#                 )"
   ]
  }
 ],
 "metadata": {
  "application/vnd.databricks.v1+notebook": {
   "dashboards": [],
   "language": "python",
   "notebookMetadata": {
    "pythonIndentUnit": 4
   },
   "notebookName": "great_expectations_config",
   "widgets": {}
  }
 },
 "nbformat": 4,
 "nbformat_minor": 0
}
